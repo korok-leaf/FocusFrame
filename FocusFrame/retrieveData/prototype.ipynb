{
 "cells": [
  {
   "cell_type": "markdown",
   "metadata": {},
   "source": [
    "# Testing"
   ]
  },
  {
   "cell_type": "code",
   "execution_count": 2,
   "metadata": {},
   "outputs": [
    {
     "name": "stdout",
     "output_type": "stream",
     "text": [
      "45\n"
     ]
    }
   ],
   "source": [
    "import numpy as np\n",
    "import pandas as pd\n",
    "import tensorflow as tf\n",
    "from sklearn.model_selection import train_test_split\n",
    "from sklearn.preprocessing import StandardScaler\n",
    "from sklearn.metrics import accuracy_score\n",
    "import joblib\n",
    "\n",
    "from getScreenTime import get_screen_time_data\n",
    "from getAppName import get_app_name"
   ]
  },
  {
   "cell_type": "markdown",
   "metadata": {},
   "source": [
    "## get data"
   ]
  },
  {
   "cell_type": "code",
   "execution_count": 10,
   "metadata": {},
   "outputs": [
    {
     "name": "stdout",
     "output_type": "stream",
     "text": [
      "[[ 1. 22. 33.  2.]\n",
      " [ 1. 23.  9.  2.]\n",
      " [ 1. 23. 38.  2.]\n",
      " ...\n",
      " [ 1. 17.  3.  6.]\n",
      " [ 1. 17. 29.  6.]\n",
      " [ 1. 17. 59.  6.]]\n",
      "[[0. 0. 0. ... 0. 0. 0.]\n",
      " [0. 0. 0. ... 0. 0. 1.]\n",
      " [0. 0. 0. ... 0. 0. 1.]\n",
      " ...\n",
      " [1. 0. 0. ... 0. 0. 0.]\n",
      " [1. 0. 0. ... 0. 0. 0.]\n",
      " [0. 0. 0. ... 0. 0. 0.]]\n"
     ]
    }
   ],
   "source": [
    "#gets (appname, (year, month, hour, minute, second, dayOfWeek))\n",
    "data = get_screen_time_data(758000000, 758935000) # jan 7 10pm - January 18, January 18, 2025 6:16:40 PM\n",
    "\n",
    "# appname to index\n",
    "apps = get_app_name(758000000, 758935000)\n",
    "\n",
    "len_data = len(data)\n",
    "\n",
    "X_test = np.zeros((len_data, 4))\n",
    "Y_test = np.zeros((len_data, 100))\n",
    "\n",
    "for i in range(len_data):\n",
    "    x = data[i][1]\n",
    "    y = data[i][0]\n",
    "\n",
    "    X_test[i][0] = x[1]\n",
    "    X_test[i][1] = x[2]\n",
    "    X_test[i][2] = x[3]\n",
    "    X_test[i][3] = x[5]\n",
    "\n",
    "    if y not in apps:\n",
    "        Y_test[i][99] = 1\n",
    "    else:\n",
    "        ind = apps.index(y)\n",
    "        Y_test[i][ind] = 1\n",
    "\n",
    "\n",
    "\n",
    "\n",
    "\n",
    "print(X_test)\n",
    "print(Y_test)\n",
    "\n",
    "\n",
    "\n"
   ]
  },
  {
   "cell_type": "markdown",
   "metadata": {},
   "source": [
    "## model"
   ]
  },
  {
   "cell_type": "code",
   "execution_count": null,
   "metadata": {},
   "outputs": [],
   "source": [
    "model = tf.keras.Sequential([\n",
    "    tf.keras.layers.Dense(4, activation='relu'),\n",
    "    tf.keras.layers.Dense(64, activation='relu'),  \n",
    "    tf.keras.layers.Dense(100, activation='softmax')\n",
    "])\n",
    "\n",
    "model.compile(optimizer='adam',\n",
    "              loss='sparse_categorical_crossentropy',\n",
    "              metrics=['accuracy'])\n",
    "\n",
    "model.fit(X_test, Y_test, epochs=10)"
   ]
  },
  {
   "cell_type": "code",
   "execution_count": null,
   "metadata": {},
   "outputs": [],
   "source": []
  }
 ],
 "metadata": {
  "kernelspec": {
   "display_name": "base",
   "language": "python",
   "name": "python3"
  },
  "language_info": {
   "codemirror_mode": {
    "name": "ipython",
    "version": 3
   },
   "file_extension": ".py",
   "mimetype": "text/x-python",
   "name": "python",
   "nbconvert_exporter": "python",
   "pygments_lexer": "ipython3",
   "version": "3.12.7"
  }
 },
 "nbformat": 4,
 "nbformat_minor": 2
}
